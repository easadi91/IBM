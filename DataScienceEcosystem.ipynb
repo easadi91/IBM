{
 "cells": [
  {
   "cell_type": "markdown",
   "id": "6de9fa06-0b50-4ff2-a089-b78f400c2ca4",
   "metadata": {},
   "source": [
    "# Data Science Tools and Ecosystem"
   ]
  },
  {
   "cell_type": "markdown",
   "id": "7cec84c6-9ab2-451c-aba0-7dc6160b9eff",
   "metadata": {},
   "source": [
    "In this notebook, Data Science Tools and Ecosystem are summarized."
   ]
  },
  {
   "cell_type": "markdown",
   "id": "3cdfd924-b900-4cdb-b9da-1cd03041e027",
   "metadata": {},
   "source": [
    "**Objectives:**\n",
    "\n",
    "- List popular languages for Data Science\n",
    "- Showcase common libraries for data analysis\n",
    "- Provide examples of arithmetic expressions in Python\n",
    "- Familiarize users with code and markdown cells"
   ]
  },
  {
   "cell_type": "markdown",
   "id": "0b42d665-bc3d-44ec-a1c1-3871ae881294",
   "metadata": {},
   "source": [
    "Some of the popular languages that Data Scientists use are:\n",
    "\n",
    "1. Python\n",
    "2. R\n",
    "3. SQL"
   ]
  },
  {
   "cell_type": "markdown",
   "id": "28a4d75a-9084-429a-9edc-df9128cd15ca",
   "metadata": {},
   "source": [
    "Some of the commonly used libraries used by Data Scientists include:\n",
    "\n",
    "1. Numpy\n",
    "2. Pandas\n",
    "3. PyTorch\n",
    "4. TensorFlow\n",
    "5. Scikit-learn"
   ]
  },
  {
   "cell_type": "markdown",
   "id": "edfa84df-d600-419f-b779-b928c54df4e0",
   "metadata": {},
   "source": [
    "| Data Science Tools   |\n",
    "|----------------------|\n",
    "| Spyder               |\n",
    "| PyCharm              |\n",
    "| Jupyter Notebook     |"
   ]
  },
  {
   "cell_type": "markdown",
   "id": "72a41922-42f6-42ee-8ea8-1d8b3200b8fc",
   "metadata": {},
   "source": [
    "### Below are a few examples of evaluating arithmetic expressions in Python."
   ]
  },
  {
   "cell_type": "code",
   "execution_count": 3,
   "id": "5f530a3e-e64c-49d8-9bda-425a57aa78ce",
   "metadata": {
    "scrolled": true
   },
   "outputs": [
    {
     "name": "stdout",
     "output_type": "stream",
     "text": [
      "17\n"
     ]
    }
   ],
   "source": [
    "# This a simple arithmetic expression to mutiply then add integers\n",
    "x = (3*4)+5\n",
    "print(X)"
   ]
  },
  {
   "cell_type": "code",
   "execution_count": 4,
   "id": "8bf65c1b-e252-449d-870e-ed03bf675cfd",
   "metadata": {},
   "outputs": [
    {
     "name": "stdout",
     "output_type": "stream",
     "text": [
      "hours =  3.3333333333333335\n"
     ]
    }
   ],
   "source": [
    "# This will convert 200 minutes to hours by diving by 60\n",
    "H = 200/60\n",
    "print(\"hours = \", H)"
   ]
  },
  {
   "cell_type": "markdown",
   "id": "51300e7c-d808-4a83-a0be-9f2410575072",
   "metadata": {},
   "source": [
    "## Author\n",
    "Elyas"
   ]
  }
 ],
 "metadata": {
  "kernelspec": {
   "display_name": "Python 3 (ipykernel)",
   "language": "python",
   "name": "python3"
  },
  "language_info": {
   "codemirror_mode": {
    "name": "ipython",
    "version": 3
   },
   "file_extension": ".py",
   "mimetype": "text/x-python",
   "name": "python",
   "nbconvert_exporter": "python",
   "pygments_lexer": "ipython3",
   "version": "3.12.3"
  }
 },
 "nbformat": 4,
 "nbformat_minor": 5
}
